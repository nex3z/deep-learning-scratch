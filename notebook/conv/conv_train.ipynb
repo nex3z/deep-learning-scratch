{
 "cells": [
  {
   "cell_type": "code",
   "execution_count": 1,
   "metadata": {},
   "outputs": [],
   "source": [
    "import sys\n",
    "import os\n",
    "sys.path.append(os.path.join(os.curdir, os.pardir, os.pardir))"
   ]
  },
  {
   "cell_type": "code",
   "execution_count": 2,
   "metadata": {},
   "outputs": [],
   "source": [
    "import numpy as np\n",
    "import matplotlib.pyplot as plt\n",
    "from data.mnist import read_data\n",
    "from net.Model import Model\n",
    "from common.layer import Conv2D, MaxPool2D, Dense, Relu, Sigmoid, SoftmaxWithLoss\n",
    "from optimizer.GradientDescent import GradientDescent"
   ]
  },
  {
   "cell_type": "code",
   "execution_count": 3,
   "metadata": {},
   "outputs": [
    {
     "name": "stdout",
     "output_type": "stream",
     "text": [
      "OrderedDict([('Conv2D_1', <common.layer.Conv2D object at 0x1073e7cf8>), ('Relu_1', <common.layer.Relu object at 0x1073e7f98>), ('MaxPool2D_1', <common.layer.MaxPool2D object at 0x1073e7f60>), ('Dense_1', <common.layer.Dense object at 0x10554b278>), ('Relu_2', <common.layer.Relu object at 0x1073e7e80>), ('Dense_2', <common.layer.Dense object at 0x1073e7da0>)])\n",
      "{'Conv2D': 1, 'Relu': 2, 'MaxPool2D': 1, 'Dense': 2}\n"
     ]
    }
   ],
   "source": [
    "model = Model()\n",
    "model.add(Conv2D(input_size=(1, 28, 28), filters=30, kernel_size=(5, 5), stride=1, padding=0))\n",
    "model.add(Relu())\n",
    "model.add(MaxPool2D(pool_size=(2, 2), stride=2))\n",
    "model.add(Dense(4320, 100))\n",
    "model.add(Relu())\n",
    "model.add(Dense(100, 10))\n",
    "model.build(SoftmaxWithLoss(), optimizer=GradientDescent(learning_rate=0.1))\n",
    "\n",
    "print(model.network.layers)\n",
    "print(model.network.layers_cnt)"
   ]
  },
  {
   "cell_type": "code",
   "execution_count": 4,
   "metadata": {},
   "outputs": [
    {
     "name": "stdout",
     "output_type": "stream",
     "text": [
      "reading ../../mnist_data/train-images-idx3-ubyte.gz\n",
      "reading ../../mnist_data/t10k-images-idx3-ubyte.gz\n",
      "reading ../../mnist_data/train-labels-idx1-ubyte.gz\n",
      "reading ../../mnist_data/t10k-labels-idx1-ubyte.gz\n"
     ]
    }
   ],
   "source": [
    "data_set = read_data(base_dir='../../mnist_data', one_hot=True, flatten=False)"
   ]
  },
  {
   "cell_type": "code",
   "execution_count": 5,
   "metadata": {},
   "outputs": [
    {
     "data": {
      "text/plain": [
       "(55000, 1, 28, 28)"
      ]
     },
     "execution_count": 5,
     "metadata": {},
     "output_type": "execute_result"
    }
   ],
   "source": [
    "data_set.train.images.shape"
   ]
  },
  {
   "cell_type": "code",
   "execution_count": 6,
   "metadata": {},
   "outputs": [
    {
     "name": "stdout",
     "output_type": "stream",
     "text": [
      "Epoch 1/5\n",
      "550/550 [==============================] 100.0% \n",
      "train_loss = 0.2293, train_acc = 0.9390, val_loss = 0.2282, val_acc = 0.9260\n",
      "Epoch 2/5\n",
      "550/550 [==============================] 100.0% \n",
      "train_loss = 0.1449, train_acc = 0.9590, val_loss = 0.1328, val_acc = 0.9570\n",
      "Epoch 3/5\n",
      "550/550 [==============================] 100.0% \n",
      "train_loss = 0.1253, train_acc = 0.9680, val_loss = 0.1087, val_acc = 0.9670\n",
      "Epoch 4/5\n",
      "550/550 [==============================] 100.0% \n",
      "train_loss = 0.0799, train_acc = 0.9780, val_loss = 0.0901, val_acc = 0.9700\n",
      "Epoch 5/5\n",
      "550/550 [==============================] 100.0% \n",
      "train_loss = 0.0630, train_acc = 0.9770, val_loss = 0.0625, val_acc = 0.9820\n"
     ]
    }
   ],
   "source": [
    "model.fit(data_set.train.images, data_set.train.labels, \n",
    "          batch_size=100, epochs=5, eval_sample_num=1000, verbose=1,\n",
    "          validation_data=(data_set.test.images, data_set.test.labels))"
   ]
  },
  {
   "cell_type": "code",
   "execution_count": null,
   "metadata": {},
   "outputs": [],
   "source": []
  }
 ],
 "metadata": {
  "kernelspec": {
   "display_name": "Python [conda env:tf]",
   "language": "python",
   "name": "conda-env-tf-py"
  },
  "language_info": {
   "codemirror_mode": {
    "name": "ipython",
    "version": 3
   },
   "file_extension": ".py",
   "mimetype": "text/x-python",
   "name": "python",
   "nbconvert_exporter": "python",
   "pygments_lexer": "ipython3",
   "version": "3.6.7"
  }
 },
 "nbformat": 4,
 "nbformat_minor": 2
}
