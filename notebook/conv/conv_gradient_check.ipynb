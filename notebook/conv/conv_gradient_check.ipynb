{
 "cells": [
  {
   "cell_type": "code",
   "execution_count": 1,
   "metadata": {},
   "outputs": [],
   "source": [
    "import sys\n",
    "import os\n",
    "sys.path.append(os.path.join(os.curdir, os.pardir, os.pardir))"
   ]
  },
  {
   "cell_type": "code",
   "execution_count": 2,
   "metadata": {},
   "outputs": [],
   "source": [
    "import numpy as np\n",
    "from data.mnist import read_data\n",
    "from net.Model import Model\n",
    "from common.layer import Conv2D, MaxPool2D, Dense, Relu, BatchNorm, SoftmaxWithLoss"
   ]
  },
  {
   "cell_type": "code",
   "execution_count": 3,
   "metadata": {},
   "outputs": [
    {
     "name": "stdout",
     "output_type": "stream",
     "text": [
      "OrderedDict([('Conv2D_1', <common.layer.Conv2D object at 0x108116a58>), ('Relu_1', <common.layer.Relu object at 0x108116b70>), ('MaxPool2D_1', <common.layer.MaxPool2D object at 0x108116be0>), ('Dense_1', <common.layer.Dense object at 0x108116ba8>), ('Dense_2', <common.layer.Dense object at 0x108116cc0>)])\n",
      "{'Conv2D': 1, 'Relu': 1, 'MaxPool2D': 1, 'Dense': 2}\n"
     ]
    }
   ],
   "source": [
    "model = Model()\n",
    "model.add(Conv2D(input_size=(1, 10, 10), filters=10, kernel_size=(3, 3), stride=1, padding=0))\n",
    "model.add(Relu())\n",
    "model.add(MaxPool2D(pool_size=(2, 2), stride=2))\n",
    "model.add(Dense(160, 10))\n",
    "model.add(Dense(10, 10))\n",
    "model.build(SoftmaxWithLoss())\n",
    "\n",
    "print(model.network.layers)\n",
    "print(model.network.layers_cnt)"
   ]
  },
  {
   "cell_type": "code",
   "execution_count": 4,
   "metadata": {},
   "outputs": [],
   "source": [
    "X = np.random.rand(100).reshape((1, 1, 10, 10))\n",
    "# T = np.array([1, 0, 0, 0, 0, 0, 0, 0, 0, 0]).reshape((1,-1))\n",
    "T = np.array([1]).reshape((1,-1))"
   ]
  },
  {
   "cell_type": "code",
   "execution_count": 5,
   "metadata": {},
   "outputs": [
    {
     "data": {
      "text/plain": [
       "2.3024028596193475"
      ]
     },
     "execution_count": 5,
     "metadata": {},
     "output_type": "execute_result"
    }
   ],
   "source": [
    "model.network.loss(X, T)"
   ]
  },
  {
   "cell_type": "code",
   "execution_count": 6,
   "metadata": {},
   "outputs": [
    {
     "name": "stdout",
     "output_type": "stream",
     "text": [
      "Conv2D_1_W: 5.758600956831203e-06\n",
      "Conv2D_1_b: 1.2116332326754308e-05\n",
      "Dense_1_W: 1.019988501906893e-10\n",
      "Dense_1_b: 8.072300706053835e-09\n",
      "Dense_2_W: 4.739200941527641e-10\n",
      "Dense_2_b: 1.7986697082861268e-07\n"
     ]
    }
   ],
   "source": [
    "gradient_numerical = model.network.numerical_gradient(X, T)\n",
    "gradient_backprop = model.network.gradient(X, T)\n",
    "\n",
    "for key in gradient_numerical.keys():\n",
    "    diff = np.average(np.abs(gradient_backprop[key] - gradient_numerical[key]))\n",
    "    print(\"{}: {}\".format(key, diff))"
   ]
  },
  {
   "cell_type": "code",
   "execution_count": null,
   "metadata": {},
   "outputs": [],
   "source": []
  }
 ],
 "metadata": {
  "kernelspec": {
   "display_name": "Python [conda env:tf]",
   "language": "python",
   "name": "conda-env-tf-py"
  },
  "language_info": {
   "codemirror_mode": {
    "name": "ipython",
    "version": 3
   },
   "file_extension": ".py",
   "mimetype": "text/x-python",
   "name": "python",
   "nbconvert_exporter": "python",
   "pygments_lexer": "ipython3",
   "version": "3.6.7"
  }
 },
 "nbformat": 4,
 "nbformat_minor": 2
}
