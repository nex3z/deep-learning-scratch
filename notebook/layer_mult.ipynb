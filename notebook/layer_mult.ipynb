{
 "cells": [
  {
   "cell_type": "code",
   "execution_count": 1,
   "metadata": {},
   "outputs": [],
   "source": [
    "import sys\n",
    "import os\n",
    "sys.path.append(os.pardir)"
   ]
  },
  {
   "cell_type": "code",
   "execution_count": 2,
   "metadata": {},
   "outputs": [],
   "source": [
    "from basic.layer import Multiply"
   ]
  },
  {
   "cell_type": "code",
   "execution_count": 3,
   "metadata": {},
   "outputs": [],
   "source": [
    "price_apple = 100\n",
    "num_apple = 2\n",
    "tax = 1.1"
   ]
  },
  {
   "cell_type": "code",
   "execution_count": 4,
   "metadata": {},
   "outputs": [],
   "source": [
    "mult_apple_layer = Multiply()\n",
    "mult_tax_layer = Multiply()"
   ]
  },
  {
   "cell_type": "code",
   "execution_count": 5,
   "metadata": {},
   "outputs": [
    {
     "data": {
      "text/plain": [
       "220.00000000000003"
      ]
     },
     "execution_count": 5,
     "metadata": {},
     "output_type": "execute_result"
    }
   ],
   "source": [
    "sum_apple = mult_apple_layer.forward(price_apple, num_apple)\n",
    "price = mult_tax_layer.forward(sum_apple, tax)\n",
    "price"
   ]
  },
  {
   "cell_type": "code",
   "execution_count": 6,
   "metadata": {},
   "outputs": [
    {
     "name": "stdout",
     "output_type": "stream",
     "text": [
      "d_apple_price = 1.1, d_tax = 200\n",
      "d_price_apple = 2.2, d_num_apple = 110.00000000000001\n"
     ]
    }
   ],
   "source": [
    "d_price = 1\n",
    "d_apple_price, d_tax = mult_tax_layer.backward(d_price)\n",
    "print(\"d_apple_price = {}, d_tax = {}\".format(d_apple_price, d_tax))\n",
    "d_price_apple, d_num_apple = mult_apple_layer.backward(d_apple_price)\n",
    "print(\"d_price_apple = {}, d_num_apple = {}\".format(d_price_apple, d_num_apple))"
   ]
  }
 ],
 "metadata": {
  "kernelspec": {
   "display_name": "Python [conda env:tf]",
   "language": "python",
   "name": "conda-env-tf-py"
  },
  "language_info": {
   "codemirror_mode": {
    "name": "ipython",
    "version": 3
   },
   "file_extension": ".py",
   "mimetype": "text/x-python",
   "name": "python",
   "nbconvert_exporter": "python",
   "pygments_lexer": "ipython3",
   "version": "3.6.7"
  }
 },
 "nbformat": 4,
 "nbformat_minor": 2
}
