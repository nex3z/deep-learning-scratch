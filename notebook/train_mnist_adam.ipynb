{
 "cells": [
  {
   "cell_type": "code",
   "execution_count": 1,
   "metadata": {},
   "outputs": [],
   "source": [
    "import sys\n",
    "import os\n",
    "sys.path.append(os.pardir)"
   ]
  },
  {
   "cell_type": "code",
   "execution_count": 2,
   "metadata": {},
   "outputs": [],
   "source": [
    "import numpy as np\n",
    "import matplotlib.pyplot as plt\n",
    "from net.TwoLayerNet import TwoLayerNet\n",
    "from optimizer.Adam import Adam\n",
    "from data import mnist"
   ]
  },
  {
   "cell_type": "code",
   "execution_count": 3,
   "metadata": {},
   "outputs": [
    {
     "name": "stdout",
     "output_type": "stream",
     "text": [
      "reading ./mnist_data\\train-images-idx3-ubyte.gz\n",
      "reading ./mnist_data\\t10k-images-idx3-ubyte.gz\n",
      "reading ./mnist_data\\train-labels-idx1-ubyte.gz\n",
      "reading ./mnist_data\\t10k-labels-idx1-ubyte.gz\n"
     ]
    }
   ],
   "source": [
    "data_set = mnist.read_data(base_dir='./mnist_data', one_hot=True)"
   ]
  },
  {
   "cell_type": "code",
   "execution_count": 4,
   "metadata": {},
   "outputs": [],
   "source": [
    "network = TwoLayerNet(input_size=784, hidden_size=50, output_size=10)"
   ]
  },
  {
   "cell_type": "code",
   "execution_count": 5,
   "metadata": {},
   "outputs": [],
   "source": [
    "num_iter = 10000\n",
    "train_size = data_set.train.images.shape[0]\n",
    "batch_size = 100\n",
    "iter_per_epoch = max(train_size / batch_size, 1)\n",
    "\n",
    "train_loss_history = []\n",
    "train_acc_history = []\n",
    "test_acc_history = []"
   ]
  },
  {
   "cell_type": "code",
   "execution_count": 6,
   "metadata": {},
   "outputs": [],
   "source": [
    "optimizer = Adam(learning_rate=0.001, beta1=0.9, beta2=0.99)"
   ]
  },
  {
   "cell_type": "code",
   "execution_count": 7,
   "metadata": {
    "scrolled": true
   },
   "outputs": [
    {
     "name": "stdout",
     "output_type": "stream",
     "text": [
      "iter: 550, train_acc = 0.9152, test_acc = 0.9172\n",
      "iter: 1100, train_acc = 0.9302, test_acc = 0.9280\n",
      "iter: 1650, train_acc = 0.9440, test_acc = 0.9399\n",
      "iter: 2200, train_acc = 0.9533, test_acc = 0.9504\n",
      "iter: 2750, train_acc = 0.9626, test_acc = 0.9553\n",
      "iter: 3300, train_acc = 0.9667, test_acc = 0.9618\n",
      "iter: 3850, train_acc = 0.9704, test_acc = 0.9631\n",
      "iter: 4400, train_acc = 0.9737, test_acc = 0.9650\n",
      "iter: 4950, train_acc = 0.9756, test_acc = 0.9652\n",
      "iter: 5500, train_acc = 0.9775, test_acc = 0.9666\n",
      "iter: 6050, train_acc = 0.9780, test_acc = 0.9684\n",
      "iter: 6600, train_acc = 0.9811, test_acc = 0.9675\n",
      "iter: 7150, train_acc = 0.9826, test_acc = 0.9671\n",
      "iter: 7700, train_acc = 0.9835, test_acc = 0.9698\n",
      "iter: 8250, train_acc = 0.9861, test_acc = 0.9692\n",
      "iter: 8800, train_acc = 0.9864, test_acc = 0.9696\n",
      "iter: 9350, train_acc = 0.9877, test_acc = 0.9694\n",
      "iter: 9900, train_acc = 0.9880, test_acc = 0.9690\n"
     ]
    }
   ],
   "source": [
    "for i in range(1, num_iter + 1):\n",
    "    batch_mask = np.random.choice(train_size, batch_size)\n",
    "    x_batch = data_set.train.images[batch_mask]\n",
    "    y_batch = data_set.train.labels[batch_mask]\n",
    "    \n",
    "    grads = network.gradient(x_batch, y_batch)\n",
    "    optimizer.update(network.params, grads)\n",
    "    \n",
    "    loss = network.loss(x_batch, y_batch)\n",
    "    train_loss_history.append(loss)\n",
    "    \n",
    "    if i % iter_per_epoch == 0:\n",
    "        train_acc = network.accuracy(data_set.train.images, data_set.train.labels)\n",
    "        test_acc = network.accuracy(data_set.test.images, data_set.test.labels)\n",
    "        print(\"iter: {}, train_acc = {:.4f}, test_acc = {:.4f}\".format(i, train_acc, test_acc))\n",
    "        train_acc_history.append(train_acc)\n",
    "        test_acc_history.append(test_acc)"
   ]
  },
  {
   "cell_type": "code",
   "execution_count": 8,
   "metadata": {},
   "outputs": [
    {
     "data": {
      "image/png": "[encoded data removed]",
      "text/plain": [
       "<Figure size 432x288 with 1 Axes>"
      ]
     },
     "metadata": {
      "needs_background": "light"
     },
     "output_type": "display_data"
    }
   ],
   "source": [
    "plt.figure()\n",
    "epochs = range(1, len(train_acc_history) + 1)\n",
    "plt.plot(epochs, train_acc_history, marker='o')\n",
    "plt.plot(epochs, test_acc_history, marker='o')\n",
    "plt.ylim(0.90, 1)\n",
    "plt.show()"
   ]
  }
 ],
 "metadata": {
  "kernelspec": {
   "display_name": "Python [conda env:tf]",
   "language": "python",
   "name": "conda-env-tf-py"
  },
  "language_info": {
   "codemirror_mode": {
    "name": "ipython",
    "version": 3
   },
   "file_extension": ".py",
   "mimetype": "text/x-python",
   "name": "python",
   "nbconvert_exporter": "python",
   "pygments_lexer": "ipython3",
   "version": "3.6.7"
  }
 },
 "nbformat": 4,
 "nbformat_minor": 2
}
