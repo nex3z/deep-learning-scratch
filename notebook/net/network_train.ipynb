{
 "cells": [
  {
   "cell_type": "code",
   "execution_count": 1,
   "metadata": {},
   "outputs": [],
   "source": [
    "import sys\n",
    "import os\n",
    "sys.path.append(os.path.join(os.curdir, os.pardir, os.pardir))"
   ]
  },
  {
   "cell_type": "code",
   "execution_count": 2,
   "metadata": {},
   "outputs": [],
   "source": [
    "import numpy as np\n",
    "import matplotlib.pyplot as plt\n",
    "from data.mnist import read_data\n",
    "from net.Network import Network\n",
    "from common.layer import Dense, Relu, Sigmoid, SoftmaxWithLoss\n",
    "from optimizer.GradientDescent import GradientDescent"
   ]
  },
  {
   "cell_type": "code",
   "execution_count": 3,
   "metadata": {},
   "outputs": [
    {
     "name": "stdout",
     "output_type": "stream",
     "text": [
      "OrderedDict([('Dense_1', <common.layer.Dense object at 0x0000025571434E10>), ('Relu_1', <common.layer.Relu object at 0x0000025571434F28>), ('Dense_2', <common.layer.Dense object at 0x00000255714410B8>)])\n",
      "{'Dense': 2, 'Relu': 1}\n"
     ]
    }
   ],
   "source": [
    "network = Network()\n",
    "network.add(Dense(784, 50))\n",
    "network.add(Relu())\n",
    "network.add(Dense(50, 10))\n",
    "network.build(SoftmaxWithLoss(), GradientDescent())\n",
    "\n",
    "print(network.layers)\n",
    "print(network.layers_cnt)"
   ]
  },
  {
   "cell_type": "code",
   "execution_count": 4,
   "metadata": {},
   "outputs": [
    {
     "name": "stdout",
     "output_type": "stream",
     "text": [
      "reading ../../mnist_data\\train-images-idx3-ubyte.gz\n",
      "reading ../../mnist_data\\t10k-images-idx3-ubyte.gz\n",
      "reading ../../mnist_data\\train-labels-idx1-ubyte.gz\n",
      "reading ../../mnist_data\\t10k-labels-idx1-ubyte.gz\n"
     ]
    }
   ],
   "source": [
    "data_set = read_data(base_dir='../../mnist_data', one_hot=True)"
   ]
  },
  {
   "cell_type": "code",
   "execution_count": 5,
   "metadata": {},
   "outputs": [],
   "source": [
    "num_iter = 10000\n",
    "train_size = data_set.train.images.shape[0]\n",
    "batch_size = 100\n",
    "iter_per_epoch = max(train_size / batch_size, 1)\n",
    "\n",
    "train_loss_history = []\n",
    "train_acc_history = []\n",
    "test_acc_history = []"
   ]
  },
  {
   "cell_type": "code",
   "execution_count": 6,
   "metadata": {},
   "outputs": [],
   "source": [
    "optimizer = GradientDescent(learning_rate=0.1)"
   ]
  },
  {
   "cell_type": "code",
   "execution_count": 7,
   "metadata": {},
   "outputs": [
    {
     "name": "stdout",
     "output_type": "stream",
     "text": [
      "iter: 550, train_acc = 0.9023, test_acc = 0.9065\n",
      "iter: 1100, train_acc = 0.9228, test_acc = 0.9252\n",
      "iter: 1650, train_acc = 0.9346, test_acc = 0.9362\n",
      "iter: 2200, train_acc = 0.9423, test_acc = 0.9438\n",
      "iter: 2750, train_acc = 0.9475, test_acc = 0.9465\n",
      "iter: 3300, train_acc = 0.9540, test_acc = 0.9517\n",
      "iter: 3850, train_acc = 0.9567, test_acc = 0.9532\n",
      "iter: 4400, train_acc = 0.9622, test_acc = 0.9583\n",
      "iter: 4950, train_acc = 0.9643, test_acc = 0.9591\n",
      "iter: 5500, train_acc = 0.9673, test_acc = 0.9609\n",
      "iter: 6050, train_acc = 0.9694, test_acc = 0.9631\n",
      "iter: 6600, train_acc = 0.9709, test_acc = 0.9655\n",
      "iter: 7150, train_acc = 0.9731, test_acc = 0.9661\n",
      "iter: 7700, train_acc = 0.9758, test_acc = 0.9671\n",
      "iter: 8250, train_acc = 0.9758, test_acc = 0.9688\n",
      "iter: 8800, train_acc = 0.9773, test_acc = 0.9696\n",
      "iter: 9350, train_acc = 0.9774, test_acc = 0.9674\n",
      "iter: 9900, train_acc = 0.9798, test_acc = 0.9694\n"
     ]
    }
   ],
   "source": [
    "for i in range(1, num_iter + 1):\n",
    "    batch_mask = np.random.choice(train_size, batch_size)\n",
    "    x_batch = data_set.train.images[batch_mask]\n",
    "    y_batch = data_set.train.labels[batch_mask]\n",
    "    \n",
    "    grads = network.gradient(x_batch, y_batch)\n",
    "    optimizer.update(network.params, grads)\n",
    "    \n",
    "    loss = network.loss(x_batch, y_batch)\n",
    "    train_loss_history.append(loss)\n",
    "    \n",
    "    if i % iter_per_epoch == 0:\n",
    "        train_acc = network.accuracy(data_set.train.images, data_set.train.labels)\n",
    "        test_acc = network.accuracy(data_set.test.images, data_set.test.labels)\n",
    "        print(\"iter: {}, train_acc = {:.4f}, test_acc = {:.4f}\".format(i, train_acc, test_acc))\n",
    "        train_acc_history.append(train_acc)\n",
    "        test_acc_history.append(test_acc)"
   ]
  },
  {
   "cell_type": "code",
   "execution_count": 8,
   "metadata": {
    "scrolled": false
   },
   "outputs": [
    {
     "data": {
      "image/png": "[encoded data removed]",
      "text/plain": [
       "<Figure size 432x288 with 1 Axes>"
      ]
     },
     "metadata": {
      "needs_background": "light"
     },
     "output_type": "display_data"
    }
   ],
   "source": [
    "plt.figure()\n",
    "epochs = range(1, len(train_acc_history) + 1)\n",
    "plt.plot(epochs, train_acc_history, marker='o')\n",
    "plt.plot(epochs, test_acc_history, marker='o')\n",
    "plt.ylim(0.90, 1)\n",
    "plt.show()"
   ]
  },
  {
   "cell_type": "code",
   "execution_count": null,
   "metadata": {},
   "outputs": [],
   "source": []
  }
 ],
 "metadata": {
  "kernelspec": {
   "display_name": "Python [default]",
   "language": "python",
   "name": "python3"
  },
  "language_info": {
   "codemirror_mode": {
    "name": "ipython",
    "version": 3
   },
   "file_extension": ".py",
   "mimetype": "text/x-python",
   "name": "python",
   "nbconvert_exporter": "python",
   "pygments_lexer": "ipython3",
   "version": "3.6.7"
  }
 },
 "nbformat": 4,
 "nbformat_minor": 2
}
