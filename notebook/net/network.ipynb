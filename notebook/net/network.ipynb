{
 "cells": [
  {
   "cell_type": "code",
   "execution_count": 1,
   "metadata": {},
   "outputs": [],
   "source": [
    "import sys\n",
    "import os\n",
    "sys.path.append(os.path.join(os.curdir, os.pardir, os.pardir))"
   ]
  },
  {
   "cell_type": "code",
   "execution_count": 2,
   "metadata": {},
   "outputs": [],
   "source": [
    "import numpy as np\n",
    "from data.mnist import read_data\n",
    "from net.Network import Network\n",
    "from common.layer import Dense, Relu, Sigmoid, SoftmaxWithLoss"
   ]
  },
  {
   "cell_type": "code",
   "execution_count": 3,
   "metadata": {
    "scrolled": true
   },
   "outputs": [
    {
     "name": "stdout",
     "output_type": "stream",
     "text": [
      "OrderedDict([('Dense_1', <common.layer.Dense object at 0x000001C6F0318518>), ('Relu_1', <common.layer.Relu object at 0x000001C6F0318630>), ('Dense_2', <common.layer.Dense object at 0x000001C6F0318828>), ('Sigmoid_1', <common.layer.Sigmoid object at 0x000001C6F0318898>)])\n",
      "{'Dense': 2, 'Relu': 1, 'Sigmoid': 1}\n"
     ]
    }
   ],
   "source": [
    "network = Network()\n",
    "network.add(Dense(784, 50))\n",
    "network.add(Relu())\n",
    "network.add(Dense(50, 10))\n",
    "network.add(Sigmoid())\n",
    "network.build(SoftmaxWithLoss())\n",
    "\n",
    "print(network.layers)\n",
    "print(network.layers_cnt)"
   ]
  },
  {
   "cell_type": "code",
   "execution_count": 4,
   "metadata": {},
   "outputs": [
    {
     "name": "stdout",
     "output_type": "stream",
     "text": [
      "reading ../../mnist_data\\train-images-idx3-ubyte.gz\n",
      "reading ../../mnist_data\\t10k-images-idx3-ubyte.gz\n",
      "reading ../../mnist_data\\train-labels-idx1-ubyte.gz\n",
      "reading ../../mnist_data\\t10k-labels-idx1-ubyte.gz\n"
     ]
    },
    {
     "data": {
      "text/plain": [
       "(3, 784)"
      ]
     },
     "execution_count": 4,
     "metadata": {},
     "output_type": "execute_result"
    }
   ],
   "source": [
    "data_set = read_data(base_dir='../../mnist_data', one_hot=True)\n",
    "x_batch = data_set.train.images[:3]\n",
    "y_batch = data_set.train.labels[:3]\n",
    "x_batch.shape"
   ]
  },
  {
   "cell_type": "code",
   "execution_count": 5,
   "metadata": {},
   "outputs": [],
   "source": [
    "gradient_numerical = network.numerical_gradient(x_batch, y_batch)"
   ]
  },
  {
   "cell_type": "code",
   "execution_count": 6,
   "metadata": {
    "scrolled": true
   },
   "outputs": [],
   "source": [
    "gradient_backprop = network.gradient(x_batch, y_batch)"
   ]
  },
  {
   "cell_type": "code",
   "execution_count": 7,
   "metadata": {},
   "outputs": [
    {
     "name": "stdout",
     "output_type": "stream",
     "text": [
      "Dense_1_W: 9.489480682127919e-11\n",
      "Dense_1_b: 5.602829846925448e-10\n",
      "Dense_2_W: 1.3115215474710379e-09\n",
      "Dense_2_b: 3.5083617647840847e-08\n"
     ]
    }
   ],
   "source": [
    "for key in gradient_numerical.keys():\n",
    "    diff = np.average(np.abs(gradient_backprop[key] - gradient_numerical[key]))\n",
    "    print(\"{}: {}\".format(key, diff))"
   ]
  },
  {
   "cell_type": "code",
   "execution_count": null,
   "metadata": {},
   "outputs": [],
   "source": []
  }
 ],
 "metadata": {
  "kernelspec": {
   "display_name": "Python [default]",
   "language": "python",
   "name": "python3"
  },
  "language_info": {
   "codemirror_mode": {
    "name": "ipython",
    "version": 3
   },
   "file_extension": ".py",
   "mimetype": "text/x-python",
   "name": "python",
   "nbconvert_exporter": "python",
   "pygments_lexer": "ipython3",
   "version": "3.6.7"
  }
 },
 "nbformat": 4,
 "nbformat_minor": 2
}
