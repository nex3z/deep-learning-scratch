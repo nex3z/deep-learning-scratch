{
 "cells": [
  {
   "cell_type": "code",
   "execution_count": 1,
   "metadata": {
    "scrolled": true
   },
   "outputs": [],
   "source": [
    "import sys\n",
    "import os\n",
    "sys.path.append(os.path.join(os.curdir, os.pardir, os.pardir))"
   ]
  },
  {
   "cell_type": "code",
   "execution_count": 2,
   "metadata": {},
   "outputs": [
    {
     "name": "stderr",
     "output_type": "stream",
     "text": [
      "Using TensorFlow backend.\n"
     ]
    }
   ],
   "source": [
    "from data.mnist import read_data\n",
    "import keras\n",
    "from keras.models import Sequential\n",
    "from keras.layers import Conv2D, MaxPool2D, Dense, Dropout, Flatten\n",
    "from keras.datasets import mnist\n",
    "import pickle"
   ]
  },
  {
   "cell_type": "code",
   "execution_count": 3,
   "metadata": {},
   "outputs": [
    {
     "name": "stdout",
     "output_type": "stream",
     "text": [
      "reading ../../mnist_data/train-images-idx3-ubyte.gz\n",
      "reading ../../mnist_data/t10k-images-idx3-ubyte.gz\n",
      "reading ../../mnist_data/train-labels-idx1-ubyte.gz\n",
      "reading ../../mnist_data/t10k-labels-idx1-ubyte.gz\n"
     ]
    }
   ],
   "source": [
    "data_set = read_data(base_dir='../../mnist_data', one_hot=True)"
   ]
  },
  {
   "cell_type": "code",
   "execution_count": 4,
   "metadata": {},
   "outputs": [],
   "source": [
    "k_model = Sequential()\n",
    "k_model.add(Dense(50, activation='relu', input_shape=(784, ), name='Dense_1'))\n",
    "k_model.add(Dense(10, activation='softmax', name='Dense_2'))\n",
    "\n",
    "k_model.compile(loss=keras.losses.categorical_crossentropy, \n",
    "              optimizer=keras.optimizers.Adadelta(), \n",
    "              metrics=['accuracy'])"
   ]
  },
  {
   "cell_type": "code",
   "execution_count": 5,
   "metadata": {},
   "outputs": [
    {
     "name": "stdout",
     "output_type": "stream",
     "text": [
      "Train on 55000 samples, validate on 5000 samples\n",
      "Epoch 1/5\n",
      "55000/55000 [==============================] - 2s 30us/step - loss: 0.4091 - acc: 0.8877 - val_loss: 0.2326 - val_acc: 0.9358\n",
      "Epoch 2/5\n",
      "55000/55000 [==============================] - 1s 26us/step - loss: 0.2211 - acc: 0.9368 - val_loss: 0.1804 - val_acc: 0.9472\n",
      "Epoch 3/5\n",
      "55000/55000 [==============================] - 1s 27us/step - loss: 0.1724 - acc: 0.9511 - val_loss: 0.1487 - val_acc: 0.9588\n",
      "Epoch 4/5\n",
      "55000/55000 [==============================] - 2s 28us/step - loss: 0.1441 - acc: 0.9584 - val_loss: 0.1323 - val_acc: 0.9624\n",
      "Epoch 5/5\n",
      "55000/55000 [==============================] - 1s 25us/step - loss: 0.1252 - acc: 0.9648 - val_loss: 0.1220 - val_acc: 0.9654\n"
     ]
    },
    {
     "data": {
      "text/plain": [
       "<keras.callbacks.History at 0x107647c50>"
      ]
     },
     "execution_count": 5,
     "metadata": {},
     "output_type": "execute_result"
    }
   ],
   "source": [
    "k_model.fit(data_set.train.images, data_set.train.labels, \n",
    "          batch_size=100, epochs=5, verbose=1, \n",
    "          validation_data=(data_set.validation.images, data_set.validation.labels))"
   ]
  },
  {
   "cell_type": "code",
   "execution_count": 6,
   "metadata": {},
   "outputs": [],
   "source": [
    "params = {}\n",
    "for layer in k_model.layers:\n",
    "    layer_name = layer.name\n",
    "    weight, bias = layer.get_weights()\n",
    "    params['{}_W'.format(layer_name)] = weight\n",
    "    params['{}_b'.format(layer_name)] = bias\n",
    "\n",
    "with open('params.pkl', 'wb') as f:\n",
    "    pickle.dump(params, f)"
   ]
  },
  {
   "cell_type": "code",
   "execution_count": 11,
   "metadata": {},
   "outputs": [],
   "source": [
    "import numpy as np\n",
    "import matplotlib.pyplot as plt\n",
    "from data.mnist import read_data\n",
    "from net.Model import Model\n",
    "from common.layer import Dense, Relu, Sigmoid, SoftmaxWithLoss\n",
    "from optimizer.GradientDescent import GradientDescent"
   ]
  },
  {
   "cell_type": "code",
   "execution_count": 12,
   "metadata": {},
   "outputs": [
    {
     "name": "stdout",
     "output_type": "stream",
     "text": [
      "OrderedDict([('Dense_1', <common.layer.Dense object at 0x137b4b908>), ('Relu_1', <common.layer.Relu object at 0x1092f0a90>), ('Dense_2', <common.layer.Dense object at 0x136f93a58>)])\n",
      "{'Dense': 2, 'Relu': 1}\n"
     ]
    }
   ],
   "source": [
    "model = Model()\n",
    "model.add(Dense(784, 50))\n",
    "model.add(Relu())\n",
    "model.add(Dense(50, 10))\n",
    "model.build(SoftmaxWithLoss(), optimizer=GradientDescent(learning_rate=0.1))\n",
    "\n",
    "print(model.network.layers)\n",
    "print(model.network.layers_cnt)"
   ]
  },
  {
   "cell_type": "code",
   "execution_count": 14,
   "metadata": {},
   "outputs": [],
   "source": [
    "model.load('./params.pkl')"
   ]
  },
  {
   "cell_type": "code",
   "execution_count": 18,
   "metadata": {},
   "outputs": [
    {
     "data": {
      "text/plain": [
       "(0.1219703252944959, 0.9654)"
      ]
     },
     "execution_count": 18,
     "metadata": {},
     "output_type": "execute_result"
    }
   ],
   "source": [
    "model.network.evaluate(data_set.validation.images, data_set.validation.labels)"
   ]
  },
  {
   "cell_type": "code",
   "execution_count": 16,
   "metadata": {},
   "outputs": [
    {
     "data": {
      "text/plain": [
       "(0.12735856950191937, 0.9641)"
      ]
     },
     "execution_count": 16,
     "metadata": {},
     "output_type": "execute_result"
    }
   ],
   "source": [
    "model.network.evaluate(data_set.test.images, data_set.test.labels)"
   ]
  }
 ],
 "metadata": {
  "kernelspec": {
   "display_name": "Python [conda env:tf]",
   "language": "python",
   "name": "conda-env-tf-py"
  },
  "language_info": {
   "codemirror_mode": {
    "name": "ipython",
    "version": 3
   },
   "file_extension": ".py",
   "mimetype": "text/x-python",
   "name": "python",
   "nbconvert_exporter": "python",
   "pygments_lexer": "ipython3",
   "version": "3.6.7"
  }
 },
 "nbformat": 4,
 "nbformat_minor": 2
}
